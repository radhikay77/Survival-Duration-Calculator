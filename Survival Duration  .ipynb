{
 "cells": [
  {
   "cell_type": "code",
   "execution_count": 5,
   "id": "4526c952-692e-4094-a3af-f567082f22d1",
   "metadata": {},
   "outputs": [],
   "source": [
    "# Writing basic codes to calculate the age in different units\n",
    "# defining a function which takes input of age and unit then validate them and give the converted age.\n"
   ]
  },
  {
   "cell_type": "code",
   "execution_count": 7,
   "id": "5df9d402-4b41-466f-9a5c-e503010944b7",
   "metadata": {},
   "outputs": [
    {
     "name": "stdout",
     "output_type": "stream",
     "text": [
      "10\n"
     ]
    }
   ],
   "source": [
    "print(10)"
   ]
  },
  {
   "cell_type": "code",
   "execution_count": null,
   "id": "f3f82610-a6f6-4e37-885a-2803bab0d414",
   "metadata": {},
   "outputs": [],
   "source": [
    " # Convert input to an integer"
   ]
  },
  {
   "cell_type": "code",
   "execution_count": null,
   "id": "5ebd0ac7-2d65-4203-a5b7-f5b78f9005d3",
   "metadata": {},
   "outputs": [],
   "source": [
    " # Checking if the age is valid"
   ]
  },
  {
   "cell_type": "code",
   "execution_count": null,
   "id": "9205e9c2-fda6-42f5-8be1-94c3cd6946bc",
   "metadata": {},
   "outputs": [],
   "source": [
    " if age_10 < 0:"
   ]
  },
  {
   "cell_type": "code",
   "execution_count": null,
   "id": "1248eb0b-57fc-4e46-a2bf-0d53d6026278",
   "metadata": {},
   "outputs": [],
   "source": [
    "print(\"10\")\n",
    "        elif age_y == 0:\n",
    "            print(\"You are just a newborn baby!\")\n",
    "        else:\n",
    "            print(\"m (months:\")\n",
    "            unit = input()\n",
    "\n",
    "            # Check the unit and calculate age\n",
    "            if unit == \"m\" or unit.lower() == \"months\":\n",
    "                age = age_y * 12\n",
    "                print(f\"You lived for {age} months.\")\n",
    "            elif unit == \"w\" or unit.lower() == \"weeks\":"
   ]
  },
  {
   "cell_type": "code",
   "execution_count": null,
   "id": "f023b244-84ae-4d27-b012-0561cab338d7",
   "metadata": {},
   "outputs": [],
   "source": [
    "age = age_y * 52\n",
    "                print(f\"You lived for  {age} weeks.\")\n",
    "            elif unit == \"d\" or unit.lower() == \"days\":\n",
    "                age = age_y * 365\n",
    "                print(f\"You lived for {age} days.\")\n",
    "            elif unit == \"h\" or unit.lower() == \"hours\":\n",
    "                age = age_y * 365 * 24\n",
    "                print(f\"You lived for {age} hours.\")\n",
    "            elif unit == \"min\" or unit.lower() == \"minutes\":\n",
    "                age = age_y * 365 * 24 * 60\n",
    "                print(f\"You lived for {age} minutes.\")\n",
    "            elif unit == \"s\" or unit.lower() == \"seconds\":\n",
    "                age = age_y * 365 * 24 * 60 * 60\n",
    "                print(f\"You lived for {age} seconds.\")\n",
    "            else:\n",
    "                print(\"Please enter a valid unit (m, w, d, h, min, s, or their full names).\")\n",
    "    except ValueError:\n",
    "        print(\"Invalid input! Please enter a valid number for age.\")\n",
    "\n",
    "# Call the function\n",
    "age_cal()\n",
    "\n",
    "\n",
    "     \n",
    "Enter your age in years:\n",
    "45\n",
    "Enter the unit (e.g., months, weeks, days, hours, minutes, seconds, or their abbreviations m, w, d, h, min, s):\n",
    "m\n",
    "You lived for 540 months."
   ]
  }
 ],
 "metadata": {
  "kernelspec": {
   "display_name": "Python 3 (ipykernel)",
   "language": "python",
   "name": "python3"
  },
  "language_info": {
   "codemirror_mode": {
    "name": "ipython",
    "version": 3
   },
   "file_extension": ".py",
   "mimetype": "text/x-python",
   "name": "python",
   "nbconvert_exporter": "python",
   "pygments_lexer": "ipython3",
   "version": "3.12.4"
  }
 },
 "nbformat": 4,
 "nbformat_minor": 5
}
